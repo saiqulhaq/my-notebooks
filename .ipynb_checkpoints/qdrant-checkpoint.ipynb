{
 "cells": [
  {
   "cell_type": "code",
   "execution_count": 3,
   "id": "8c7ecd93",
   "metadata": {},
   "outputs": [
    {
     "name": "stdout",
     "output_type": "stream",
     "text": [
      "done setup client\n"
     ]
    }
   ],
   "source": [
    "require 'rubygems'\n",
    "require 'qdrant'\n",
    "\n",
    "client = Qdrant::Client.new(\n",
    "  url: ENV['QDRANT_URL'],\n",
    "  api_key: ENV['QDRANT_API_KEY']\n",
    ")\n",
    "puts \"done setup client\""
   ]
  },
  {
   "cell_type": "code",
   "execution_count": 4,
   "id": "c03073d8",
   "metadata": {},
   "outputs": [
    {
     "name": "stdout",
     "output_type": "stream",
     "text": [
      "!\n",
      "!=\n",
      "!~\n",
      "<=>\n",
      "==\n",
      "===\n",
      "=~\n",
      "__id__\n",
      "__send__\n",
      "adapter\n",
      "aliases\n",
      "api_key\n",
      "class\n",
      "clone\n",
      "clusters\n",
      "collections\n",
      "connection\n",
      "define_singleton_method\n",
      "display\n",
      "dup\n",
      "enum_for\n",
      "eql?\n",
      "equal?\n",
      "extend\n",
      "freeze\n",
      "frozen?\n",
      "hash\n",
      "inspect\n",
      "instance_eval\n",
      "instance_exec\n",
      "instance_of?\n",
      "instance_variable_defined?\n",
      "instance_variable_get\n",
      "instance_variable_set\n",
      "instance_variables\n",
      "is_a?\n",
      "itself\n",
      "kind_of?\n",
      "locks\n",
      "method\n",
      "methods\n",
      "metrics\n",
      "nil?\n",
      "object_id\n",
      "points\n",
      "pretty_inspect\n",
      "pretty_print\n",
      "pretty_print_cycle\n",
      "pretty_print_inspect\n",
      "pretty_print_instance_variables\n",
      "private_methods\n",
      "protected_methods\n",
      "public_method\n",
      "public_methods\n",
      "public_send\n",
      "raise_error\n",
      "remove_instance_variable\n",
      "respond_to?\n",
      "send\n",
      "service\n",
      "set_lock\n",
      "singleton_class\n",
      "singleton_method\n",
      "singleton_methods\n",
      "snapshots\n",
      "taint\n",
      "tainted?\n",
      "tap\n",
      "telemetry\n",
      "then\n",
      "to_enum\n",
      "to_json\n",
      "to_s\n",
      "trust\n",
      "untaint\n",
      "untrust\n",
      "untrusted?\n",
      "url\n",
      "yield_self\n"
     ]
    }
   ],
   "source": [
    "puts client.methods.sort"
   ]
  }
 ],
 "metadata": {
  "kernelspec": {
   "display_name": "Ruby 3.1.3",
   "language": "ruby",
   "name": "ruby"
  },
  "language_info": {
   "file_extension": ".rb",
   "mimetype": "application/x-ruby",
   "name": "ruby",
   "version": "3.1.3"
  }
 },
 "nbformat": 4,
 "nbformat_minor": 5
}
