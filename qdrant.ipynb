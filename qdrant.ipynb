{
 "cells": [
  {
   "cell_type": "code",
   "execution_count": 2,
   "id": "8c7ecd93",
   "metadata": {},
   "outputs": [
    {
     "data": {
      "text/plain": [
       "#<Qdrant::Client:0x00007f9c2aa2c8a8 @url=\"your-qdrant-url\", @api_key=\"your-qdrant-api-key\", @adapter=:net_http, @raise_error=false>"
      ]
     },
     "execution_count": 2,
     "metadata": {},
     "output_type": "execute_result"
    }
   ],
   "source": [
    "require 'rubygems'\n",
    "require 'qdrant'\n",
    "\n",
    "client = Qdrant::Client.new(\n",
    "  url: \"your-qdrant-url\",\n",
    "  api_key: \"your-qdrant-api-key\"\n",
    ")"
   ]
  },
  {
   "cell_type": "code",
   "execution_count": 3,
   "id": "c03073d8",
   "metadata": {},
   "outputs": [
    {
     "name": "stdout",
     "output_type": "stream",
     "text": [
      "!\n",
      "!=\n",
      "!~\n",
      "<=>\n",
      "==\n",
      "===\n",
      "=~\n",
      "__id__\n",
      "__send__\n",
      "adapter\n",
      "aliases\n",
      "api_key\n",
      "class\n",
      "clone\n",
      "clusters\n",
      "collections\n",
      "connection\n",
      "define_singleton_method\n",
      "display\n",
      "dup\n",
      "enum_for\n",
      "eql?\n",
      "equal?\n",
      "extend\n",
      "freeze\n",
      "frozen?\n",
      "hash\n",
      "inspect\n",
      "instance_eval\n",
      "instance_exec\n",
      "instance_of?\n",
      "instance_variable_defined?\n",
      "instance_variable_get\n",
      "instance_variable_set\n",
      "instance_variables\n",
      "is_a?\n",
      "itself\n",
      "kind_of?\n",
      "locks\n",
      "method\n",
      "methods\n",
      "metrics\n",
      "nil?\n",
      "object_id\n",
      "points\n",
      "pretty_inspect\n",
      "pretty_print\n",
      "pretty_print_cycle\n",
      "pretty_print_inspect\n",
      "pretty_print_instance_variables\n",
      "private_methods\n",
      "protected_methods\n",
      "public_method\n",
      "public_methods\n",
      "public_send\n",
      "raise_error\n",
      "remove_instance_variable\n",
      "respond_to?\n",
      "send\n",
      "service\n",
      "set_lock\n",
      "singleton_class\n",
      "singleton_method\n",
      "singleton_methods\n",
      "snapshots\n",
      "taint\n",
      "tainted?\n",
      "tap\n",
      "telemetry\n",
      "then\n",
      "to_enum\n",
      "to_json\n",
      "to_s\n",
      "trust\n",
      "untaint\n",
      "untrust\n",
      "untrusted?\n",
      "url\n",
      "yield_self\n"
     ]
    },
    {
     "ename": "Interrupt",
     "evalue": "",
     "output_type": "error",
     "traceback": [
      "\u001b[31mInterrupt\u001b[0m: ",
      "/Users/chucky/.rbenv/versions/2.7.6/lib/ruby/gems/2.7.0/gems/ffi-rzmq-2.0.7/lib/ffi-rzmq/socket.rb:584:in `zmq_recvmsg'",
      "/Users/chucky/.rbenv/versions/2.7.6/lib/ruby/gems/2.7.0/gems/ffi-rzmq-2.0.7/lib/ffi-rzmq/socket.rb:584:in `__recvmsg__'",
      "/Users/chucky/.rbenv/versions/2.7.6/lib/ruby/gems/2.7.0/gems/ffi-rzmq-2.0.7/lib/ffi-rzmq/socket.rb:321:in `recvmsg'",
      "/Users/chucky/.rbenv/versions/2.7.6/lib/ruby/gems/2.7.0/gems/ffi-rzmq-2.0.7/lib/ffi-rzmq/socket.rb:342:in `recv_string'",
      "/Users/chucky/.rbenv/versions/2.7.6/lib/ruby/gems/2.7.0/gems/iruby-0.7.4/lib/iruby/session_adapter/ffirzmq_adapter.rb:19:in `recv'",
      "/Users/chucky/.rbenv/versions/2.7.6/lib/ruby/gems/2.7.0/gems/iruby-0.7.4/lib/iruby/session.rb:91:in `recv'",
      "/Users/chucky/.rbenv/versions/2.7.6/lib/ruby/gems/2.7.0/gems/iruby-0.7.4/lib/iruby/kernel.rb:133:in `dispatch'",
      "/Users/chucky/.rbenv/versions/2.7.6/lib/ruby/gems/2.7.0/gems/iruby-0.7.4/lib/iruby/kernel.rb:127:in `run'",
      "/Users/chucky/.rbenv/versions/2.7.6/lib/ruby/gems/2.7.0/gems/iruby-0.7.4/lib/iruby/command.rb:106:in `run_kernel'",
      "/Users/chucky/.rbenv/versions/2.7.6/lib/ruby/gems/2.7.0/gems/iruby-0.7.4/lib/iruby/command.rb:37:in `run'",
      "/Users/chucky/.rbenv/versions/2.7.6/lib/ruby/gems/2.7.0/gems/iruby-0.7.4/bin/iruby:5:in `<top (required)>'",
      "/Users/chucky/.rbenv/versions/2.7.6/bin/iruby:23:in `load'",
      "/Users/chucky/.rbenv/versions/2.7.6/bin/iruby:23:in `<main>'"
     ]
    },
    {
     "ename": "SignalException",
     "evalue": "SIGTERM",
     "output_type": "error",
     "traceback": [
      "\u001b[31mSignalException\u001b[0m: SIGTERM",
      "/Users/chucky/.rbenv/versions/2.7.6/lib/ruby/gems/2.7.0/gems/ffi-rzmq-2.0.7/lib/ffi-rzmq/socket.rb:584:in `zmq_recvmsg'",
      "/Users/chucky/.rbenv/versions/2.7.6/lib/ruby/gems/2.7.0/gems/ffi-rzmq-2.0.7/lib/ffi-rzmq/socket.rb:584:in `__recvmsg__'",
      "/Users/chucky/.rbenv/versions/2.7.6/lib/ruby/gems/2.7.0/gems/ffi-rzmq-2.0.7/lib/ffi-rzmq/socket.rb:321:in `recvmsg'",
      "/Users/chucky/.rbenv/versions/2.7.6/lib/ruby/gems/2.7.0/gems/ffi-rzmq-2.0.7/lib/ffi-rzmq/socket.rb:342:in `recv_string'",
      "/Users/chucky/.rbenv/versions/2.7.6/lib/ruby/gems/2.7.0/gems/iruby-0.7.4/lib/iruby/session_adapter/ffirzmq_adapter.rb:19:in `recv'",
      "/Users/chucky/.rbenv/versions/2.7.6/lib/ruby/gems/2.7.0/gems/iruby-0.7.4/lib/iruby/session.rb:91:in `recv'",
      "/Users/chucky/.rbenv/versions/2.7.6/lib/ruby/gems/2.7.0/gems/iruby-0.7.4/lib/iruby/kernel.rb:133:in `dispatch'",
      "/Users/chucky/.rbenv/versions/2.7.6/lib/ruby/gems/2.7.0/gems/iruby-0.7.4/lib/iruby/kernel.rb:127:in `run'",
      "/Users/chucky/.rbenv/versions/2.7.6/lib/ruby/gems/2.7.0/gems/iruby-0.7.4/lib/iruby/command.rb:106:in `run_kernel'",
      "/Users/chucky/.rbenv/versions/2.7.6/lib/ruby/gems/2.7.0/gems/iruby-0.7.4/lib/iruby/command.rb:37:in `run'",
      "/Users/chucky/.rbenv/versions/2.7.6/lib/ruby/gems/2.7.0/gems/iruby-0.7.4/bin/iruby:5:in `<top (required)>'",
      "/Users/chucky/.rbenv/versions/2.7.6/bin/iruby:23:in `load'",
      "/Users/chucky/.rbenv/versions/2.7.6/bin/iruby:23:in `<main>'"
     ]
    }
   ],
   "source": [
    "puts client.methods.sort"
   ]
  }
 ],
 "metadata": {
  "kernelspec": {
   "display_name": "Ruby 2.7.6",
   "language": "ruby",
   "name": "ruby"
  },
  "language_info": {
   "file_extension": ".rb",
   "mimetype": "application/x-ruby",
   "name": "ruby",
   "version": "2.7.6"
  }
 },
 "nbformat": 4,
 "nbformat_minor": 5
}
