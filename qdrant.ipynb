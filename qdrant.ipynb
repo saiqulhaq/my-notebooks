{
 "cells": [
  {
   "cell_type": "code",
   "execution_count": 3,
   "id": "8c7ecd93",
   "metadata": {},
   "outputs": [
    {
     "name": "stdout",
     "output_type": "stream",
     "text": [
      "done setup client\n"
     ]
    }
   ],
   "source": [
    "# setup qdrant ruby\n",
    "require 'rubygems'\n",
    "require 'qdrant'\n",
    "\n",
    "client = Qdrant::Client.new(\n",
    "  url: ENV['QDRANT_URL'],\n",
    "  api_key: ENV['QDRANT_API_KEY']\n",
    ")\n",
    "puts \"done setup client\""
   ]
  },
  {
   "cell_type": "markdown",
   "id": "e1dda8f6-2537-41c9-b002-3dd863622621",
   "metadata": {},
   "source": [
    "# create collection"
   ]
  },
  {
   "cell_type": "code",
   "execution_count": 6,
   "id": "ea81abdd-ebc7-416e-a625-c0e1c207659d",
   "metadata": {},
   "outputs": [
    {
     "data": {
      "text/plain": [
       "{\"result\"=>true, \"status\"=>\"ok\", \"time\"=>0.16361203}"
      ]
     },
     "execution_count": 6,
     "metadata": {},
     "output_type": "execute_result"
    }
   ],
   "source": [
    "client.collections.create(\n",
    "    collection_name: \"collection1\",     # required\n",
    "    vectors: {\n",
    "            \"size\": 4,\n",
    "            \"distance\": \"Dot\"\n",
    "        }                   # required\n",
    ")"
   ]
  },
  {
   "cell_type": "markdown",
   "id": "ea58acbe-4ce5-4e54-8791-a15197977c8c",
   "metadata": {},
   "source": [
    "# check collection"
   ]
  },
  {
   "cell_type": "code",
   "execution_count": 7,
   "id": "c5da3d62-87b3-4578-84cf-b7db0a6235f3",
   "metadata": {},
   "outputs": [
    {
     "data": {
      "text/plain": [
       "{\"result\"=>{\"status\"=>\"green\", \"optimizer_status\"=>\"ok\", \"vectors_count\"=>0, \"indexed_vectors_count\"=>0, \"points_count\"=>0, \"segments_count\"=>2, \"config\"=>{\"params\"=>{\"vectors\"=>{\"size\"=>4, \"distance\"=>\"Dot\"}, \"shard_number\"=>1, \"replication_factor\"=>1, \"write_consistency_factor\"=>1, \"on_disk_payload\"=>true}, \"hnsw_config\"=>{\"m\"=>16, \"ef_construct\"=>100, \"full_scan_threshold\"=>10000, \"max_indexing_threads\"=>0, \"on_disk\"=>false}, \"optimizer_config\"=>{\"deleted_threshold\"=>0.2, \"vacuum_min_vector_number\"=>1000, \"default_segment_number\"=>0, \"max_segment_size\"=>nil, \"memmap_threshold\"=>nil, \"indexing_threshold\"=>20000, \"flush_interval_sec\"=>5, \"max_optimization_threads\"=>1}, \"wal_config\"=>{\"wal_capacity_mb\"=>32, \"wal_segments_ahead\"=>0}, \"quantization_config\"=>nil}, \"payload_schema\"=>{}}, \"status\"=>\"ok\", \"time\"=>1.5967e-05}"
      ]
     },
     "execution_count": 7,
     "metadata": {},
     "output_type": "execute_result"
    }
   ],
   "source": [
    "collection_name = \"collection1\"\n",
    "client.collections.get(collection_name: collection_name)"
   ]
  },
  {
   "cell_type": "markdown",
   "id": "dfeb3139-db9c-4104-9b84-8a24ce713902",
   "metadata": {},
   "source": [
    "# Add points"
   ]
  },
  {
   "cell_type": "code",
   "execution_count": 8,
   "id": "36c8e98e-2c27-40a7-8e34-963b937017d6",
   "metadata": {},
   "outputs": [
    {
     "data": {
      "text/plain": [
       "{\"result\"=>{\"operation_id\"=>0, \"status\"=>\"acknowledged\"}, \"status\"=>\"ok\", \"time\"=>9.22e-05}"
      ]
     },
     "execution_count": 8,
     "metadata": {},
     "output_type": "execute_result"
    }
   ],
   "source": [
    "client.points.upsert(\n",
    "    collection_name: collection_name,\n",
    "    points: [\n",
    "          {\"id\": 1, \"vector\": [0.05, 0.61, 0.76, 0.74], \"payload\": {\"city\": \"Berlin\" }},\n",
    "          {\"id\": 2, \"vector\": [0.19, 0.81, 0.75, 0.11], \"payload\": {\"city\": [\"Berlin\", \"London\"] }},\n",
    "          {\"id\": 3, \"vector\": [0.36, 0.55, 0.47, 0.94], \"payload\": {\"city\": [\"Berlin\", \"Moscow\"] }},\n",
    "          {\"id\": 4, \"vector\": [0.18, 0.01, 0.85, 0.80], \"payload\": {\"city\": [\"London\", \"Moscow\"] }},\n",
    "          {\"id\": 5, \"vector\": [0.24, 0.18, 0.22, 0.44], \"payload\": {\"count\": [0] }},\n",
    "          {\"id\": 6, \"vector\": [0.35, 0.08, 0.11, 0.44]}\n",
    "        ]\n",
    ")"
   ]
  },
  {
   "cell_type": "markdown",
   "id": "5c6ff401-7a7a-49db-a97e-fbc21f4ba634",
   "metadata": {},
   "source": [
    "# Search"
   ]
  },
  {
   "cell_type": "code",
   "execution_count": 9,
   "id": "2f7ad830-e9b2-43d7-83f7-018ec9866c19",
   "metadata": {},
   "outputs": [
    {
     "data": {
      "text/plain": [
       "{\"result\"=>[{\"id\"=>4, \"version\"=>0, \"score\"=>1.362, \"payload\"=>nil, \"vector\"=>nil}, {\"id\"=>1, \"version\"=>0, \"score\"=>1.273, \"payload\"=>nil, \"vector\"=>nil}, {\"id\"=>3, \"version\"=>0, \"score\"=>1.208, \"payload\"=>nil, \"vector\"=>nil}], \"status\"=>\"ok\", \"time\"=>0.000169772}"
      ]
     },
     "execution_count": 9,
     "metadata": {},
     "output_type": "execute_result"
    }
   ],
   "source": [
    "client.points.search(\n",
    "    collection_name: collection_name,\n",
    "    \"vector\": [0.2,0.1,0.9,0.7],\n",
    "    \"limit\": 3\n",
    ")"
   ]
  },
  {
   "cell_type": "markdown",
   "id": "a9fc444c-5814-4bdc-b39b-a409847503de",
   "metadata": {},
   "source": [
    "# Search with filter"
   ]
  },
  {
   "cell_type": "code",
   "execution_count": 10,
   "id": "ae6cda60-d94a-43f0-85ae-eece7a0b9a0f",
   "metadata": {},
   "outputs": [
    {
     "data": {
      "text/plain": [
       "{\"result\"=>[{\"id\"=>4, \"version\"=>0, \"score\"=>1.362, \"payload\"=>nil, \"vector\"=>nil}, {\"id\"=>2, \"version\"=>0, \"score\"=>0.871, \"payload\"=>nil, \"vector\"=>nil}], \"status\"=>\"ok\", \"time\"=>0.000289354}"
      ]
     },
     "execution_count": 10,
     "metadata": {},
     "output_type": "execute_result"
    }
   ],
   "source": [
    "client.points.search(\n",
    "    collection_name: collection_name,\n",
    "    \"filter\": {\n",
    "          \"should\": [\n",
    "              {\n",
    "                  \"key\": \"city\",\n",
    "                  \"match\": {\n",
    "                      \"value\": \"London\"\n",
    "                  }\n",
    "              }\n",
    "          ]\n",
    "      },\n",
    "      \"vector\": [0.2, 0.1, 0.9, 0.7],\n",
    "      \"limit\": 3\n",
    ")"
   ]
  }
 ],
 "metadata": {
  "kernelspec": {
   "display_name": "Ruby 3.1.3",
   "language": "ruby",
   "name": "ruby"
  },
  "language_info": {
   "file_extension": ".rb",
   "mimetype": "application/x-ruby",
   "name": "ruby",
   "version": "3.1.3"
  }
 },
 "nbformat": 4,
 "nbformat_minor": 5
}
