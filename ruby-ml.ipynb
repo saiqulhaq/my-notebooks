{
 "cells": [
  {
   "cell_type": "code",
   "execution_count": 9,
   "id": "9bf27167",
   "metadata": {},
   "outputs": [
    {
     "name": "stdout",
     "output_type": "stream",
     "text": [
      "text\n",
      "from\n",
      "document\n",
      "</s>\n",
      "one\n",
      "two\n",
      "three\n",
      "ham\n",
      "spam\n"
     ]
    }
   ],
   "source": [
    "require 'fasttext'\n",
    "\n",
    "# documents\n",
    "x = [\n",
    "  \"text from document one\",\n",
    "  \"text from document two\",\n",
    "  \"text from document three\"\n",
    "]\n",
    "\n",
    "# labels\n",
    "y = [\"ham\", \"ham\", \"spam\"]\n",
    "\n",
    "model = FastText::Classifier.new\n",
    "model.fit(x, y)\n",
    "\n",
    "# puts model.predict(x)\n",
    "\n",
    "puts model.words\n",
    "puts model.labels"
   ]
  },
  {
   "cell_type": "code",
   "execution_count": null,
   "id": "435c74db",
   "metadata": {},
   "outputs": [],
   "source": []
  }
 ],
 "metadata": {
  "kernelspec": {
   "display_name": "Ruby 3.1.2",
   "language": "ruby",
   "name": "ruby"
  },
  "language_info": {
   "file_extension": ".rb",
   "mimetype": "application/x-ruby",
   "name": "ruby",
   "version": "3.1.2"
  }
 },
 "nbformat": 4,
 "nbformat_minor": 5
}
